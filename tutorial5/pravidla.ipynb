{
 "cells": [
  {
   "cell_type": "code",
   "execution_count": 1,
   "metadata": {
    "collapsed": true,
    "deletable": true,
    "editable": true
   },
   "outputs": [],
   "source": [
    "from collections import Counter\n",
    " \n",
    "def frequentItems(transactions, support):\n",
    "    counter = Counter()\n",
    "    for trans in transactions:\n",
    "        counter.update(frozenset([t]) for t in trans)\n",
    "    return set(item for item in counter if counter[item]/len(transactions) >= support), counter\n",
    " \n",
    "def generateCandidates(L, k):\n",
    "    candidates = set()\n",
    "    for a in L:\n",
    "        for b in L:\n",
    "            union = a | b\n",
    "            if len(union) == k and a != b:\n",
    "                candidates.add(union)\n",
    "    return candidates\n",
    " \n",
    "def filterCandidates(transactions, itemsets, support):\n",
    "    counter = Counter()\n",
    "    for trans in transactions:\n",
    "        subsets = [itemset for itemset in itemsets if itemset.issubset(trans)]\n",
    "        counter.update(subsets)\n",
    "    return set(item for item in counter if counter[item]/len(transactions) >= support), counter\n",
    " \n",
    "def apriori(transactions, support):\n",
    "    result = list()\n",
    "    resultc = Counter()\n",
    "    candidates, counter = frequentItems(transactions, support)\n",
    "    result += candidates\n",
    "    resultc += counter\n",
    "    k = 2\n",
    "    while candidates:\n",
    "        candidates = generateCandidates(candidates, k)\n",
    "        candidates,counter = filterCandidates(transactions, candidates, support)\n",
    "        result += candidates\n",
    "        resultc += counter\n",
    "        k += 1\n",
    "    resultc = {item:(resultc[item]/len(transactions)) for item in resultc}\n",
    "    return result, resultc"
   ]
  },
  {
   "cell_type": "code",
   "execution_count": 2,
   "metadata": {
    "collapsed": false,
    "deletable": true,
    "editable": true
   },
   "outputs": [
    {
     "name": "stdout",
     "output_type": "stream",
     "text": [
      "frozenset({'egg'}) - 0.2\n",
      "frozenset({'bread'}) - 0.8\n",
      "frozenset({'milk'}) - 0.8\n",
      "frozenset({'beer'}) - 0.6\n",
      "frozenset({'cola'}) - 0.4\n",
      "frozenset({'diaper'}) - 0.8\n",
      "frozenset({'diaper', 'beer'}) - 0.6\n",
      "frozenset({'milk', 'beer'}) - 0.4\n",
      "frozenset({'cola', 'beer'}) - 0.2\n",
      "frozenset({'milk', 'cola'}) - 0.4\n",
      "frozenset({'milk', 'diaper'}) - 0.6\n",
      "frozenset({'bread', 'cola'}) - 0.2\n",
      "frozenset({'bread', 'diaper'}) - 0.6\n",
      "frozenset({'egg', 'beer'}) - 0.2\n",
      "frozenset({'egg', 'bread'}) - 0.2\n",
      "frozenset({'egg', 'diaper'}) - 0.2\n",
      "frozenset({'bread', 'beer'}) - 0.4\n",
      "frozenset({'bread', 'milk'}) - 0.6\n",
      "frozenset({'cola', 'diaper'}) - 0.4\n",
      "frozenset({'milk', 'diaper', 'bread'}) - 0.4\n",
      "frozenset({'cola', 'diaper', 'beer'}) - 0.2\n",
      "frozenset({'milk', 'bread', 'beer'}) - 0.2\n",
      "frozenset({'bread', 'cola', 'diaper'}) - 0.2\n",
      "frozenset({'egg', 'diaper', 'beer'}) - 0.2\n",
      "frozenset({'milk', 'cola', 'diaper'}) - 0.4\n",
      "frozenset({'egg', 'bread', 'beer'}) - 0.2\n",
      "frozenset({'egg', 'bread', 'diaper'}) - 0.2\n",
      "frozenset({'milk', 'diaper', 'beer'}) - 0.4\n",
      "frozenset({'milk', 'cola', 'beer'}) - 0.2\n",
      "frozenset({'milk', 'cola', 'bread'}) - 0.2\n",
      "frozenset({'bread', 'diaper', 'beer'}) - 0.4\n",
      "frozenset({'egg', 'beer', 'bread', 'diaper'}) - 0.2\n",
      "frozenset({'beer', 'cola', 'diaper', 'milk'}) - 0.2\n",
      "frozenset({'cola', 'milk', 'diaper', 'bread'}) - 0.2\n",
      "frozenset({'beer', 'milk', 'diaper', 'bread'}) - 0.2\n"
     ]
    }
   ],
   "source": [
    "dataset = [\n",
    "    ['bread', 'milk'],\n",
    "    ['bread', 'diaper', 'beer', 'egg'],\n",
    "    ['milk', 'diaper', 'beer', 'cola'],\n",
    "    ['bread', 'milk', 'diaper', 'beer'],\n",
    "    ['bread', 'milk', 'diaper', 'cola'],\n",
    "]\n",
    " \n",
    "frequentItemsets, supports = apriori(dataset, 0.1)\n",
    "for f in frequentItemsets:\n",
    "    print(\"{} - {}\".format(f,supports[f]))"
   ]
  },
  {
   "cell_type": "code",
   "execution_count": 42,
   "metadata": {
    "collapsed": false
   },
   "outputs": [
    {
     "ename": "AttributeError",
     "evalue": "'frozenset' object has no attribute 'isEmpty'",
     "output_type": "error",
     "traceback": [
      "\u001b[0;31m---------------------------------------------------------------------------\u001b[0m",
      "\u001b[0;31mAttributeError\u001b[0m                            Traceback (most recent call last)",
      "\u001b[0;32m<ipython-input-42-bdc286c73806>\u001b[0m in \u001b[0;36m<module>\u001b[0;34m()\u001b[0m\n\u001b[0;32m----> 1\u001b[0;31m \u001b[0;34m(\u001b[0m\u001b[0mfrozenset\u001b[0m\u001b[0;34m(\u001b[0m\u001b[0;34m{\u001b[0m\u001b[0;34m'egg'\u001b[0m\u001b[0;34m}\u001b[0m\u001b[0;34m)\u001b[0m \u001b[0;34m-\u001b[0m \u001b[0mfrozenset\u001b[0m\u001b[0;34m(\u001b[0m\u001b[0;34m{\u001b[0m\u001b[0;34m'egg2'\u001b[0m\u001b[0;34m,\u001b[0m\u001b[0;34m'egg'\u001b[0m\u001b[0;34m}\u001b[0m\u001b[0;34m)\u001b[0m\u001b[0;34m)\u001b[0m\u001b[0;34m.\u001b[0m\u001b[0misEmpty\u001b[0m\u001b[0;34m(\u001b[0m\u001b[0;34m)\u001b[0m\u001b[0;34m\u001b[0m\u001b[0m\n\u001b[0m",
      "\u001b[0;31mAttributeError\u001b[0m: 'frozenset' object has no attribute 'isEmpty'"
     ]
    }
   ],
   "source": [
    "(frozenset({'egg'}) - frozenset({'egg2','egg'})).isEmpty()"
   ]
  },
  {
   "cell_type": "code",
   "execution_count": 49,
   "metadata": {
    "collapsed": true,
    "deletable": true,
    "editable": true
   },
   "outputs": [],
   "source": [
    "from itertools import chain, combinations\n",
    "\n",
    "def powerset(iterable):\n",
    "    xs = list(iterable)\n",
    "    return chain.from_iterable(combinations(xs,n) for n in range(len(xs)+1))"
   ]
  },
  {
   "cell_type": "code",
   "execution_count": 50,
   "metadata": {
    "collapsed": false
   },
   "outputs": [
    {
     "data": {
      "text/plain": [
       "0.2"
      ]
     },
     "execution_count": 50,
     "metadata": {},
     "output_type": "execute_result"
    }
   ],
   "source": [
    "supports[frozenset({\"egg\"})]"
   ]
  },
  {
   "cell_type": "code",
   "execution_count": 51,
   "metadata": {
    "collapsed": false
   },
   "outputs": [
    {
     "data": {
      "text/plain": [
       "0.2"
      ]
     },
     "execution_count": 51,
     "metadata": {},
     "output_type": "execute_result"
    }
   ],
   "source": [
    "supports[frequentItemsets[0] - frequentItemsets[1]]"
   ]
  },
  {
   "cell_type": "code",
   "execution_count": 54,
   "metadata": {
    "collapsed": false,
    "deletable": true,
    "editable": true
   },
   "outputs": [
    {
     "ename": "KeyError",
     "evalue": "<itertools.chain object at 0x1044ddc50>",
     "output_type": "error",
     "traceback": [
      "\u001b[0;31m---------------------------------------------------------------------------\u001b[0m",
      "\u001b[0;31mKeyError\u001b[0m                                  Traceback (most recent call last)",
      "\u001b[0;32m<ipython-input-54-32580969fd1e>\u001b[0m in \u001b[0;36m<module>\u001b[0;34m()\u001b[0m\n\u001b[1;32m      7\u001b[0m         \u001b[0;32mif\u001b[0m \u001b[0mwhole\u001b[0m \u001b[0;34m==\u001b[0m \u001b[0mfrozenset\u001b[0m\u001b[0;34m(\u001b[0m\u001b[0;34m)\u001b[0m\u001b[0;34m:\u001b[0m\u001b[0;34m\u001b[0m\u001b[0m\n\u001b[1;32m      8\u001b[0m             \u001b[0;32mcontinue\u001b[0m\u001b[0;34m\u001b[0m\u001b[0m\n\u001b[0;32m----> 9\u001b[0;31m         \u001b[0;32mif\u001b[0m \u001b[0msupports\u001b[0m\u001b[0;34m[\u001b[0m\u001b[0msubset\u001b[0m\u001b[0;34m]\u001b[0m \u001b[0;34m/\u001b[0m \u001b[0msupports\u001b[0m\u001b[0;34m[\u001b[0m\u001b[0mwhole\u001b[0m\u001b[0;34m]\u001b[0m \u001b[0;34m>=\u001b[0m \u001b[0;36m0.1\u001b[0m\u001b[0;34m:\u001b[0m\u001b[0;34m\u001b[0m\u001b[0m\n\u001b[0m\u001b[1;32m     10\u001b[0m             \u001b[0mrule\u001b[0m\u001b[0;34m[\u001b[0m\u001b[0mwhole\u001b[0m\u001b[0;34m]\u001b[0m \u001b[0;34m=\u001b[0m \u001b[0msubset\u001b[0m\u001b[0;34m\u001b[0m\u001b[0m\n\u001b[1;32m     11\u001b[0m             \u001b[0msupportRule\u001b[0m\u001b[0;34m[\u001b[0m\u001b[0mfrequentItems\u001b[0m \u001b[0;34m-\u001b[0m \u001b[0msubset\u001b[0m\u001b[0;34m]\u001b[0m \u001b[0;34m=\u001b[0m \u001b[0msupports\u001b[0m\u001b[0;34m[\u001b[0m\u001b[0msubset\u001b[0m\u001b[0;34m]\u001b[0m\u001b[0;34m\u001b[0m\u001b[0m\n",
      "\u001b[0;31mKeyError\u001b[0m: <itertools.chain object at 0x1044ddc50>"
     ]
    }
   ],
   "source": [
    "rule = {}\n",
    "confienceRule = {}\n",
    "supportRule = {}\n",
    "for frequentItems in frequentItemsets:\n",
    "    for subset in powerset(frequentItems):\n",
    "        whole = frequentItems - frozenset({subset})\n",
    "        if whole == frozenset():\n",
    "            continue\n",
    "        if supports[subset] / supports[whole] >= 0.1:\n",
    "            rule[whole] = subset\n",
    "            supportRule[frequentItems - subset] = supports[subset]\n",
    "            confienceRule[frequentItems - subset] = supports[subset]/ supports[frequentItems - subset]"
   ]
  },
  {
   "cell_type": "code",
   "execution_count": 46,
   "metadata": {
    "collapsed": false
   },
   "outputs": [
    {
     "data": {
      "text/plain": [
       "{}"
      ]
     },
     "execution_count": 46,
     "metadata": {},
     "output_type": "execute_result"
    }
   ],
   "source": [
    "rule"
   ]
  },
  {
   "cell_type": "code",
   "execution_count": null,
   "metadata": {
    "collapsed": true,
    "deletable": true,
    "editable": true
   },
   "outputs": [],
   "source": [
    "def genereateRules(frequentItemsets, supports, minConfidence):\n",
    "    ...\n",
    "    print(\" .... \")\n",
    "genereateRules(frequentItemsets, supports, 0.5)\n"
   ]
  }
 ],
 "metadata": {
  "kernelspec": {
   "display_name": "Python 3",
   "language": "python",
   "name": "python3"
  },
  "language_info": {
   "codemirror_mode": {
    "name": "ipython",
    "version": 3
   },
   "file_extension": ".py",
   "mimetype": "text/x-python",
   "name": "python",
   "nbconvert_exporter": "python",
   "pygments_lexer": "ipython3",
   "version": "3.5.2"
  }
 },
 "nbformat": 4,
 "nbformat_minor": 2
}
