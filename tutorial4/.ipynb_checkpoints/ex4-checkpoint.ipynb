{
 "cells": [
  {
   "cell_type": "code",
   "execution_count": 1,
   "metadata": {
    "collapsed": true
   },
   "outputs": [],
   "source": [
    "import numpy as np\n",
    " \n",
    "def createH(inputFile):\n",
    "    text = None\n",
    "    with open(inputFile, 'r') as f:\n",
    "        text = f.read()\n",
    "    lines = text.splitlines()\n",
    "    nodes = int(lines[0])\n",
    "    print(nodes)\n",
    "\n",
    "    edges = np.zeros((nodes, nodes))\n",
    "\n",
    "    for i in range(1, nodes + 1):\n",
    "        line = lines[i].split(' ')\n",
    "        if line[0] is not '':\n",
    "            for item in line:\n",
    "                parse_line = item.split(':')\n",
    "                edges[i-1,int(parse_line[0])] = int(parse_line[1])\n",
    " \n",
    "    print(\"edges:\\n{}\\n\".format(edges))\n",
    "\n",
    "    H = np.zeros((nodes, nodes))\n",
    "    for row in range(0, nodes):\n",
    "        for column in range(0, nodes):\n",
    "            if edges[row,column] > 0:\n",
    "                H[row,column] = 1/sum(edges[row])\n",
    "\n",
    "    print(\"H:\\n{}\\n\".format(H))\n",
    "    return(H)\n",
    " \n",
    "def createS(H):\n",
    "    S = np.copy(H)\n",
    "    for row in range(0, len(H)):\n",
    "        if sum(S[row]) == 0:\n",
    "            for column in range(0, len(S[row])):\n",
    "                S[row,column] = 1/len(S)\n",
    "\n",
    "    print(\"S:\\n{}\\n\".format(S))\n",
    "    return(S)\n",
    " \n",
    "def createG(H,S,alpha):\n",
    "    G = np.copy(S)\n",
    "    for row in range(0, len(H)):\n",
    "        for column in range(0, len(H[row])):\n",
    "            G[row,column] = (alpha*S[row,column]) + (1.0 - alpha)*(1.0/len(H[row]))*1.0\n",
    "\n",
    "    print(\"G:\\n{}\\n\".format(G))\n",
    "    return(G)"
   ]
  },
  {
   "cell_type": "code",
   "execution_count": 14,
   "metadata": {
    "collapsed": false
   },
   "outputs": [
    {
     "name": "stdout",
     "output_type": "stream",
     "text": [
      "2\n",
      "edges:\n",
      "[[ 0.  1.]\n",
      " [ 1.  0.]]\n",
      "\n",
      "H:\n",
      "[[ 0.  1.]\n",
      " [ 1.  0.]]\n",
      "\n",
      "S:\n",
      "[[ 0.  1.]\n",
      " [ 1.  0.]]\n",
      "\n",
      "G:\n",
      "[[ 0.05  0.95]\n",
      " [ 0.95  0.05]]\n",
      "\n"
     ]
    }
   ],
   "source": [
    "inputFile = \"./data/test1.txt\"\n",
    "alpha = 0.9\n",
    "iterations = 16\n",
    " \n",
    "H = createH(inputFile)\n",
    "#computePR(H, iterations)\n",
    " \n",
    "S = createS(H)\n",
    "#computePR(S, iterations)\n",
    " \n",
    "G = createG(H,S,alpha)"
   ]
  },
  {
   "cell_type": "code",
   "execution_count": 5,
   "metadata": {
    "collapsed": false
   },
   "outputs": [
    {
     "data": {
      "text/plain": [
       "array([ 0.09166667,  0.16666667,  0.11666667,  0.26666667,  0.16666667,\n",
       "        0.19166667])"
      ]
     },
     "execution_count": 5,
     "metadata": {},
     "output_type": "execute_result"
    }
   ],
   "source": [
    "np.dot((np.ones(len(G)) * 1.0/6),G)"
   ]
  },
  {
   "cell_type": "code",
   "execution_count": 18,
   "metadata": {
    "collapsed": false
   },
   "outputs": [
    {
     "name": "stdout",
     "output_type": "stream",
     "text": [
      "PR:\n",
      "0[ 0.5  0.5]\n",
      "\n",
      "PR:\n",
      "1[ 0.5  0.5]\n",
      "\n",
      "PR:\n",
      "2[ 0.5  0.5]\n",
      "\n",
      "PR:\n",
      "3[ 0.5  0.5]\n",
      "\n",
      "PR:\n",
      "4[ 0.5  0.5]\n",
      "\n",
      "PR:\n",
      "5[ 0.5  0.5]\n",
      "\n",
      "PR:\n",
      "6[ 0.5  0.5]\n",
      "\n",
      "PR:\n",
      "7[ 0.5  0.5]\n",
      "\n",
      "PR:\n",
      "8[ 0.5  0.5]\n",
      "\n",
      "PR:\n",
      "9[ 0.5  0.5]\n",
      "\n",
      "PR:\n",
      "10[ 0.5  0.5]\n",
      "\n",
      "PR:\n",
      "11[ 0.5  0.5]\n",
      "\n",
      "PR:\n",
      "12[ 0.5  0.5]\n",
      "\n",
      "PR:\n",
      "13[ 0.5  0.5]\n",
      "\n",
      "PR:\n",
      "14[ 0.5  0.5]\n",
      "\n",
      "PR:\n",
      "15[ 0.5  0.5]\n",
      "\n",
      "PR:\n",
      "16[ 0.5  0.5]\n",
      "\n"
     ]
    }
   ],
   "source": [
    "def computePR(G, iterations):\n",
    "    PR = []\n",
    "    PR.append(np.ones(len(G)) * 1.0/len(G))\n",
    "    #PR.append(np.array([0,1]))\n",
    "    \n",
    "    for i in range(1,iterations + 1):\n",
    "        PR.append(np.dot((PR[i-1].transpose()),G))\n",
    "\n",
    "    for row in range(len(PR)):\n",
    "        print(\"PR:\\n{}{}\\n\".format(row, PR[row]))\n",
    "        \n",
    "computePR(G, iterations)"
   ]
  },
  {
   "cell_type": "code",
   "execution_count": 13,
   "metadata": {
    "collapsed": false
   },
   "outputs": [
    {
     "name": "stdout",
     "output_type": "stream",
     "text": [
      "PR:\n",
      "0[ 0.16666667  0.16666667  0.16666667  0.16666667  0.16666667  0.16666667]\n",
      "\n",
      "PR:\n",
      "1[ 0.05555556  0.13888889  0.08333333  0.25        0.13888889  0.16666667]\n",
      "\n",
      "PR:\n",
      "2[ 0.08333333  0.11111111  0.02777778  0.23611111  0.125       0.11111111]\n",
      "\n",
      "PR:\n",
      "3[ 0.0787037   0.12037037  0.04166667  0.17361111  0.09259259  0.07638889]\n",
      "\n",
      "PR:\n",
      "4[ 0.05787037  0.09722222  0.03935185  0.12268519  0.0787037   0.06712963]\n",
      "\n",
      "PR:\n",
      "5[ 0.04089506  0.06983025  0.02893519  0.10648148  0.06057099  0.05902778]\n",
      "\n",
      "PR:\n",
      "6[ 0.03549383  0.05594136  0.02044753  0.08931327  0.04996142  0.04475309]\n",
      "\n",
      "PR:\n",
      "7[ 0.02977109  0.047518    0.01774691  0.0697338   0.03999486  0.03520448]\n",
      "\n",
      "PR:\n",
      "8[ 0.0232446   0.03813014  0.01488555  0.0552019   0.03211806  0.02887088]\n",
      "\n",
      "PR:\n",
      "9[ 0.01840063  0.03002293  0.0116223   0.04492991  0.02584341  0.0235018 ]\n",
      "\n",
      "PR:\n",
      "10[ 0.01497664  0.02417695  0.00920032  0.0364235   0.02078779  0.01873285]\n",
      "\n",
      "PR:\n",
      "11[ 0.01214117  0.01962949  0.00748832  0.02912675  0.01674133  0.01499405]\n",
      "\n",
      "PR:\n",
      "12[ 0.00970892  0.0157795   0.00607058  0.02336472  0.01345307  0.01211482]\n",
      "\n",
      "PR:\n",
      "13[ 0.00778824  0.0126427   0.00485446  0.01884136  0.01082353  0.00976183]\n",
      "\n",
      "PR:\n",
      "14[ 0.00628045  0.01017457  0.00389412  0.01517359  0.00870768  0.00783899]\n",
      "\n",
      "PR:\n",
      "15[ 0.00505786  0.00819809  0.00314023  0.01219284  0.00700492  0.0063009 ]\n",
      "\n",
      "PR:\n",
      "16[ 0.00406428  0.00659321  0.00252893  0.00980336  0.00563439  0.00507258]\n",
      "\n"
     ]
    }
   ],
   "source": [
    "computePR(H, iterations)"
   ]
  },
  {
   "cell_type": "code",
   "execution_count": null,
   "metadata": {
    "collapsed": true
   },
   "outputs": [],
   "source": []
  }
 ],
 "metadata": {
  "kernelspec": {
   "display_name": "Python 3",
   "language": "python",
   "name": "python3"
  },
  "language_info": {
   "codemirror_mode": {
    "name": "ipython",
    "version": 3
   },
   "file_extension": ".py",
   "mimetype": "text/x-python",
   "name": "python",
   "nbconvert_exporter": "python",
   "pygments_lexer": "ipython3",
   "version": "3.5.2"
  }
 },
 "nbformat": 4,
 "nbformat_minor": 2
}
